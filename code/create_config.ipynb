{
 "cells": [
  {
   "cell_type": "code",
   "execution_count": 1,
   "metadata": {},
   "outputs": [],
   "source": [
    "import pandas as pd\n",
    "import os\n",
    "from tqdm import tqdm\n",
    "\n",
    "peg_to_product = {}\n",
    "prev_product = ''\n",
    "prev = {}\n",
    "for genome in os.listdir('OperonHunter-main/genomes/'):\n",
    "    if genome[-3:] != 'gff':\n",
    "        continue\n",
    "    g = genome.split('.')[0]\n",
    "    input = open('OperonHunter-main/genomes/' + genome, 'r')\n",
    "    for row in input:\n",
    "        if row[:3] != 'acc':\n",
    "            continue\n",
    "        cols = row.strip().split('\\t')\n",
    "        start = int(cols[3])\n",
    "        end = int(cols[4])\n",
    "        strand = cols[6]\n",
    "        c = cols[8].split(';')\n",
    "        if len(c) < 2 or 'locus' != c[1][:5]:\n",
    "                continue\n",
    "        product = c[1][10:]\n",
    "        peg = c[0][3:]\n",
    "        peg_to_product[product]  = peg\n",
    "\n",
    "        prev[prev_product] = peg\n",
    "        prev_product = peg\n",
    "    input.close()\n",
    "\n",
    "string = {} \n",
    "for string_file in os.listdir('OperonHunter-main/strings/'):\n",
    "    if string_file[-3:] != 'txt':\n",
    "        continue\n",
    "    input = open('OperonHunter-main/strings/' + string_file, 'r')\n",
    "    next(input)\n",
    "    for row in input:\n",
    "        cols = row.strip().split()\n",
    "        g1 = cols[0].split('.')[1]\n",
    "        g2 = cols[1].split('.')[1]\n",
    "        if g1 in peg_to_product:\n",
    "            g1 = peg_to_product[g1]\n",
    "        else:\n",
    "            continue\n",
    "        if g2 in peg_to_product:\n",
    "            g2 = peg_to_product[g2]\n",
    "        else:\n",
    "            continue\n",
    "        if g1 in prev and g2 == prev[g1]:\n",
    "            string[g1] = float(cols[2])/1000.0\n",
    "    input.close()"
   ]
  },
  {
   "cell_type": "code",
   "execution_count": 12,
   "metadata": {},
   "outputs": [
    {
     "name": "stderr",
     "output_type": "stream",
     "text": [
      "24it [00:18,  1.29it/s]\n"
     ]
    }
   ],
   "source": [
    "data = pd.DataFrame(columns = ['name', 'im_set', 'path', 'score','split','label'])\n",
    "\n",
    "for subdir, dirs, files in tqdm(os.walk('OperonHunter-main')):\n",
    "    for file in files:\n",
    "        if 'jpg' in file:\n",
    "            name = file.split('_fig')[0]\n",
    "            path = os.path.join('input_jsons', f'{name}.json')\n",
    "\n",
    "            if 'test' in subdir.lower():\n",
    "                split = 'test'\n",
    "            if 'train' in subdir.lower():\n",
    "                split = 'train'\n",
    "            if 'valid' in subdir.lower():\n",
    "                split = 'valid'\n",
    "\n",
    "            if 'operon' in subdir.lower() and 'noperon' not in subdir.lower():\n",
    "                label = 1\n",
    "            elif 'noperon' in subdir.lower():\n",
    "                label = 0\n",
    "\n",
    "            im_set = subdir.split('images_')[-1].split('/')[0]\n",
    "\n",
    "            score = 0.1\n",
    "            if name in string:\n",
    "                score = string[name]\n",
    "            elif '85962.8' in name:\n",
    "                temp = 'fig|85962.47.peg.' + name.split('.')[-1]\n",
    "                if temp in string:\n",
    "                    score = string[temp]\n",
    "\n",
    "            data = pd.concat([data,pd.DataFrame({'name': name, 'im_set': im_set, 'path': path, 'score': score, 'split': split, 'label': label},index=[0])], ignore_index=True)\n",
    "\n",
    "data.to_csv('data.csv', index=False)"
   ]
  }
 ],
 "metadata": {
  "interpreter": {
   "hash": "ac2eaa0ea0ebeafcc7822e65e46aa9d4f966f30b695406963e145ea4a91cd4fc"
  },
  "kernelspec": {
   "display_name": "Python 3.9.10 64-bit",
   "language": "python",
   "name": "python3"
  },
  "language_info": {
   "codemirror_mode": {
    "name": "ipython",
    "version": 3
   },
   "file_extension": ".py",
   "mimetype": "text/x-python",
   "name": "python",
   "nbconvert_exporter": "python",
   "pygments_lexer": "ipython3",
   "version": "3.8.5"
  },
  "orig_nbformat": 4
 },
 "nbformat": 4,
 "nbformat_minor": 2
}
